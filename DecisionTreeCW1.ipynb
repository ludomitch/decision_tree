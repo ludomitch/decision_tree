{
 "cells": [
  {
   "cell_type": "markdown",
   "metadata": {},
   "source": [
    "# Initializing the data"
   ]
  },
  {
   "cell_type": "code",
   "execution_count": 1,
   "metadata": {},
   "outputs": [],
   "source": [
    "import tree as dt\n",
    "import evaluation as ev\n",
    "import numpy as np\n",
    "import copy\n",
    "import config as cfg\n",
    "import cross_val as cv"
   ]
  },
  {
   "cell_type": "code",
   "execution_count": 2,
   "metadata": {},
   "outputs": [],
   "source": [
    "cfg.BOUNDARIES = [2,4]\n",
    "cfg.DEPTH = [5,6]\n",
    "cfg.PRUNING = [True,False]"
   ]
  },
  {
   "cell_type": "code",
   "execution_count": 3,
   "metadata": {},
   "outputs": [],
   "source": [
    "data = np.loadtxt('noisy_dataset.txt')\n",
    "# When kfold is large, we represent smaller amounts of labels. As we shuffle the dataset,\n",
    "# when using small trees, it is possible that a label is not set. Hence, this is very dangerous (for the confusion matx)\n",
    "# A fix is to omit this, and use larger trees: found by debugging! We should mention this, and that for 5-fold this was \n",
    "# not observed as the mean distrubition of labels was normalised"
   ]
  },
  {
   "cell_type": "code",
   "execution_count": 4,
   "metadata": {
    "scrolled": true
   },
   "outputs": [
    {
     "name": "stdout",
     "output_type": "stream",
     "text": [
      "-------------------- Test/Train separation 0 --------------------\n",
      "Running with hyperparameters: {'depth': 5, 'boundary': 2, 'prune': True}\n",
      "------- Train/Validate separation 0 -------\n",
      "------- Train/Validate separation 1 -------\n",
      "------- Train/Validate separation 2 -------\n",
      "------- Train/Validate separation 3 -------\n",
      "Running with hyperparameters: {'depth': 5, 'boundary': 2, 'prune': False}\n",
      "------- Train/Validate separation 0 -------\n",
      "------- Train/Validate separation 1 -------\n",
      "------- Train/Validate separation 2 -------\n",
      "------- Train/Validate separation 3 -------\n",
      "Running with hyperparameters: {'depth': 5, 'boundary': 4, 'prune': True}\n",
      "------- Train/Validate separation 0 -------\n",
      "------- Train/Validate separation 1 -------\n",
      "------- Train/Validate separation 2 -------\n",
      "------- Train/Validate separation 3 -------\n",
      "Running with hyperparameters: {'depth': 5, 'boundary': 4, 'prune': False}\n",
      "------- Train/Validate separation 0 -------\n",
      "------- Train/Validate separation 1 -------\n",
      "------- Train/Validate separation 2 -------\n",
      "------- Train/Validate separation 3 -------\n",
      "Running with hyperparameters: {'depth': 6, 'boundary': 2, 'prune': True}\n",
      "------- Train/Validate separation 0 -------\n",
      "------- Train/Validate separation 1 -------\n",
      "------- Train/Validate separation 2 -------\n",
      "------- Train/Validate separation 3 -------\n",
      "Running with hyperparameters: {'depth': 6, 'boundary': 2, 'prune': False}\n",
      "------- Train/Validate separation 0 -------\n",
      "------- Train/Validate separation 1 -------\n",
      "------- Train/Validate separation 2 -------\n",
      "------- Train/Validate separation 3 -------\n",
      "Running with hyperparameters: {'depth': 6, 'boundary': 4, 'prune': True}\n",
      "------- Train/Validate separation 0 -------\n",
      "------- Train/Validate separation 1 -------\n",
      "------- Train/Validate separation 2 -------\n",
      "------- Train/Validate separation 3 -------\n",
      "Running with hyperparameters: {'depth': 6, 'boundary': 4, 'prune': False}\n",
      "------- Train/Validate separation 0 -------\n",
      "------- Train/Validate separation 1 -------\n",
      "------- Train/Validate separation 2 -------\n",
      "------- Train/Validate separation 3 -------\n",
      "-------------------- Test/Train separation 1 --------------------\n",
      "Running with hyperparameters: {'depth': 5, 'boundary': 2, 'prune': True}\n",
      "------- Train/Validate separation 0 -------\n",
      "------- Train/Validate separation 1 -------\n",
      "------- Train/Validate separation 2 -------\n",
      "------- Train/Validate separation 3 -------\n",
      "Running with hyperparameters: {'depth': 5, 'boundary': 2, 'prune': False}\n",
      "------- Train/Validate separation 0 -------\n",
      "------- Train/Validate separation 1 -------\n",
      "------- Train/Validate separation 2 -------\n",
      "------- Train/Validate separation 3 -------\n",
      "Running with hyperparameters: {'depth': 5, 'boundary': 4, 'prune': True}\n",
      "------- Train/Validate separation 0 -------\n",
      "------- Train/Validate separation 1 -------\n",
      "------- Train/Validate separation 2 -------\n",
      "------- Train/Validate separation 3 -------\n",
      "Running with hyperparameters: {'depth': 5, 'boundary': 4, 'prune': False}\n",
      "------- Train/Validate separation 0 -------\n",
      "------- Train/Validate separation 1 -------\n",
      "------- Train/Validate separation 2 -------\n",
      "------- Train/Validate separation 3 -------\n",
      "Running with hyperparameters: {'depth': 6, 'boundary': 2, 'prune': True}\n",
      "------- Train/Validate separation 0 -------\n",
      "------- Train/Validate separation 1 -------\n",
      "------- Train/Validate separation 2 -------\n",
      "------- Train/Validate separation 3 -------\n",
      "Running with hyperparameters: {'depth': 6, 'boundary': 2, 'prune': False}\n",
      "------- Train/Validate separation 0 -------\n",
      "------- Train/Validate separation 1 -------\n",
      "------- Train/Validate separation 2 -------\n",
      "------- Train/Validate separation 3 -------\n",
      "Running with hyperparameters: {'depth': 6, 'boundary': 4, 'prune': True}\n",
      "------- Train/Validate separation 0 -------\n",
      "------- Train/Validate separation 1 -------\n",
      "------- Train/Validate separation 2 -------\n",
      "------- Train/Validate separation 3 -------\n",
      "Running with hyperparameters: {'depth': 6, 'boundary': 4, 'prune': False}\n",
      "------- Train/Validate separation 0 -------\n",
      "------- Train/Validate separation 1 -------\n",
      "------- Train/Validate separation 2 -------\n",
      "------- Train/Validate separation 3 -------\n",
      "-------------------- Test/Train separation 2 --------------------\n",
      "Running with hyperparameters: {'depth': 5, 'boundary': 2, 'prune': True}\n",
      "------- Train/Validate separation 0 -------\n",
      "------- Train/Validate separation 1 -------\n",
      "------- Train/Validate separation 2 -------\n",
      "------- Train/Validate separation 3 -------\n",
      "Running with hyperparameters: {'depth': 5, 'boundary': 2, 'prune': False}\n",
      "------- Train/Validate separation 0 -------\n",
      "------- Train/Validate separation 1 -------\n",
      "------- Train/Validate separation 2 -------\n",
      "------- Train/Validate separation 3 -------\n",
      "Running with hyperparameters: {'depth': 5, 'boundary': 4, 'prune': True}\n",
      "------- Train/Validate separation 0 -------\n",
      "------- Train/Validate separation 1 -------\n",
      "------- Train/Validate separation 2 -------\n",
      "------- Train/Validate separation 3 -------\n",
      "Running with hyperparameters: {'depth': 5, 'boundary': 4, 'prune': False}\n",
      "------- Train/Validate separation 0 -------\n",
      "------- Train/Validate separation 1 -------\n",
      "------- Train/Validate separation 2 -------\n",
      "------- Train/Validate separation 3 -------\n",
      "Running with hyperparameters: {'depth': 6, 'boundary': 2, 'prune': True}\n",
      "------- Train/Validate separation 0 -------\n",
      "------- Train/Validate separation 1 -------\n",
      "------- Train/Validate separation 2 -------\n",
      "------- Train/Validate separation 3 -------\n",
      "Running with hyperparameters: {'depth': 6, 'boundary': 2, 'prune': False}\n",
      "------- Train/Validate separation 0 -------\n",
      "------- Train/Validate separation 1 -------\n",
      "------- Train/Validate separation 2 -------\n",
      "------- Train/Validate separation 3 -------\n",
      "Running with hyperparameters: {'depth': 6, 'boundary': 4, 'prune': True}\n",
      "------- Train/Validate separation 0 -------\n",
      "------- Train/Validate separation 1 -------\n",
      "------- Train/Validate separation 2 -------\n",
      "------- Train/Validate separation 3 -------\n",
      "Running with hyperparameters: {'depth': 6, 'boundary': 4, 'prune': False}\n",
      "------- Train/Validate separation 0 -------\n",
      "------- Train/Validate separation 1 -------\n",
      "------- Train/Validate separation 2 -------\n",
      "------- Train/Validate separation 3 -------\n",
      "-------------------- Test/Train separation 3 --------------------\n",
      "Running with hyperparameters: {'depth': 5, 'boundary': 2, 'prune': True}\n",
      "------- Train/Validate separation 0 -------\n",
      "------- Train/Validate separation 1 -------\n",
      "------- Train/Validate separation 2 -------\n",
      "------- Train/Validate separation 3 -------\n",
      "Running with hyperparameters: {'depth': 5, 'boundary': 2, 'prune': False}\n",
      "------- Train/Validate separation 0 -------\n",
      "------- Train/Validate separation 1 -------\n",
      "------- Train/Validate separation 2 -------\n",
      "------- Train/Validate separation 3 -------\n",
      "Running with hyperparameters: {'depth': 5, 'boundary': 4, 'prune': True}\n",
      "------- Train/Validate separation 0 -------\n",
      "------- Train/Validate separation 1 -------\n",
      "------- Train/Validate separation 2 -------\n",
      "------- Train/Validate separation 3 -------\n",
      "Running with hyperparameters: {'depth': 5, 'boundary': 4, 'prune': False}\n",
      "------- Train/Validate separation 0 -------\n",
      "------- Train/Validate separation 1 -------\n",
      "------- Train/Validate separation 2 -------\n",
      "------- Train/Validate separation 3 -------\n",
      "Running with hyperparameters: {'depth': 6, 'boundary': 2, 'prune': True}\n",
      "------- Train/Validate separation 0 -------\n",
      "------- Train/Validate separation 1 -------\n",
      "------- Train/Validate separation 2 -------\n",
      "------- Train/Validate separation 3 -------\n",
      "Running with hyperparameters: {'depth': 6, 'boundary': 2, 'prune': False}\n",
      "------- Train/Validate separation 0 -------\n",
      "------- Train/Validate separation 1 -------\n",
      "------- Train/Validate separation 2 -------\n",
      "------- Train/Validate separation 3 -------\n",
      "Running with hyperparameters: {'depth': 6, 'boundary': 4, 'prune': True}\n",
      "------- Train/Validate separation 0 -------\n",
      "------- Train/Validate separation 1 -------\n",
      "------- Train/Validate separation 2 -------\n",
      "------- Train/Validate separation 3 -------\n",
      "Running with hyperparameters: {'depth': 6, 'boundary': 4, 'prune': False}\n",
      "------- Train/Validate separation 0 -------\n",
      "------- Train/Validate separation 1 -------\n",
      "------- Train/Validate separation 2 -------\n",
      "------- Train/Validate separation 3 -------\n"
     ]
    },
    {
     "name": "stdout",
     "output_type": "stream",
     "text": [
      "-------------------- Test/Train separation 4 --------------------\n",
      "Running with hyperparameters: {'depth': 5, 'boundary': 2, 'prune': True}\n",
      "------- Train/Validate separation 0 -------\n",
      "------- Train/Validate separation 1 -------\n",
      "------- Train/Validate separation 2 -------\n",
      "------- Train/Validate separation 3 -------\n",
      "Running with hyperparameters: {'depth': 5, 'boundary': 2, 'prune': False}\n",
      "------- Train/Validate separation 0 -------\n",
      "------- Train/Validate separation 1 -------\n",
      "------- Train/Validate separation 2 -------\n",
      "------- Train/Validate separation 3 -------\n",
      "Running with hyperparameters: {'depth': 5, 'boundary': 4, 'prune': True}\n",
      "------- Train/Validate separation 0 -------\n",
      "------- Train/Validate separation 1 -------\n",
      "------- Train/Validate separation 2 -------\n",
      "------- Train/Validate separation 3 -------\n",
      "Running with hyperparameters: {'depth': 5, 'boundary': 4, 'prune': False}\n",
      "------- Train/Validate separation 0 -------\n",
      "------- Train/Validate separation 1 -------\n",
      "------- Train/Validate separation 2 -------\n",
      "------- Train/Validate separation 3 -------\n",
      "Running with hyperparameters: {'depth': 6, 'boundary': 2, 'prune': True}\n",
      "------- Train/Validate separation 0 -------\n",
      "------- Train/Validate separation 1 -------\n",
      "------- Train/Validate separation 2 -------\n",
      "------- Train/Validate separation 3 -------\n",
      "Running with hyperparameters: {'depth': 6, 'boundary': 2, 'prune': False}\n",
      "------- Train/Validate separation 0 -------\n",
      "------- Train/Validate separation 1 -------\n",
      "------- Train/Validate separation 2 -------\n",
      "------- Train/Validate separation 3 -------\n",
      "Running with hyperparameters: {'depth': 6, 'boundary': 4, 'prune': True}\n",
      "------- Train/Validate separation 0 -------\n",
      "------- Train/Validate separation 1 -------\n",
      "------- Train/Validate separation 2 -------\n",
      "------- Train/Validate separation 3 -------\n",
      "Running with hyperparameters: {'depth': 6, 'boundary': 4, 'prune': False}\n",
      "------- Train/Validate separation 0 -------\n",
      "------- Train/Validate separation 1 -------\n",
      "------- Train/Validate separation 2 -------\n",
      "------- Train/Validate separation 3 -------\n"
     ]
    }
   ],
   "source": [
    "global_best_hyper, global_scores, avg_scores = cv.cross_validation(data, 5, 0.2)"
   ]
  },
  {
   "cell_type": "code",
   "execution_count": 5,
   "metadata": {},
   "outputs": [
    {
     "data": {
      "text/plain": [
       "[{'depth': 5, 'boundary': 2, 'prune': True},\n",
       " {'depth': 6, 'boundary': 4, 'prune': True},\n",
       " {'depth': 5, 'boundary': 4, 'prune': True},\n",
       " {'depth': 5, 'boundary': 2, 'prune': True},\n",
       " {'depth': 6, 'boundary': 4, 'prune': True}]"
      ]
     },
     "execution_count": 5,
     "metadata": {},
     "output_type": "execute_result"
    }
   ],
   "source": [
    "global_best_hyper"
   ]
  },
  {
   "cell_type": "code",
   "execution_count": 7,
   "metadata": {},
   "outputs": [
    {
     "data": {
      "text/plain": [
       "[{'uar': 0.8881028630464295,\n",
       "  'uap': 0.8883735888974532,\n",
       "  'f1': 0.8882382053433295,\n",
       "  'uac': 0.9404814049921679},\n",
       " {'uar': 0.9090892914734372,\n",
       "  'uap': 0.9068815459352058,\n",
       "  'f1': 0.9079840766837722,\n",
       "  'uac': 0.9515543030848796},\n",
       " {'uar': 0.8976264069882346,\n",
       "  'uap': 0.8990073049904233,\n",
       "  'f1': 0.898316325308178,\n",
       "  'uac': 0.946074804600102},\n",
       " {'uar': 0.913063515015591,\n",
       "  'uap': 0.912538180092281,\n",
       "  'f1': 0.9128007719687791,\n",
       "  'uac': 0.9542629904484214},\n",
       " {'uar': 0.8764948246407396,\n",
       "  'uap': 0.8746268507402961,\n",
       "  'f1': 0.8755598413786848,\n",
       "  'uac': 0.9333864356714958}]"
      ]
     },
     "execution_count": 7,
     "metadata": {},
     "output_type": "execute_result"
    }
   ],
   "source": [
    "global_scores"
   ]
  },
  {
   "cell_type": "code",
   "execution_count": 8,
   "metadata": {},
   "outputs": [
    {
     "data": {
      "text/plain": [
       "{'uar': 0.8968753802328864,\n",
       " 'uap': 0.8962854941311319,\n",
       " 'f1': 0.8965798441365488,\n",
       " 'uac': 0.9451519877594133}"
      ]
     },
     "execution_count": 8,
     "metadata": {},
     "output_type": "execute_result"
    }
   ],
   "source": [
    "avg_scores"
   ]
  },
  {
   "cell_type": "code",
   "execution_count": 6,
   "metadata": {},
   "outputs": [
    {
     "data": {
      "text/plain": [
       "0.8977161840653585"
      ]
     },
     "execution_count": 6,
     "metadata": {},
     "output_type": "execute_result"
    }
   ],
   "source": [
    "avg_F1"
   ]
  },
  {
   "cell_type": "code",
   "execution_count": 7,
   "metadata": {},
   "outputs": [
    {
     "data": {
      "text/plain": [
       "[{'depth': 5, 'boundary': 1},\n",
       " {'depth': 5, 'boundary': 2},\n",
       " {'depth': 5, 'boundary': 4},\n",
       " {'depth': 6, 'boundary': 1},\n",
       " {'depth': 6, 'boundary': 2},\n",
       " {'depth': 6, 'boundary': 4},\n",
       " {'depth': 7, 'boundary': 1},\n",
       " {'depth': 7, 'boundary': 2},\n",
       " {'depth': 7, 'boundary': 4}]"
      ]
     },
     "execution_count": 7,
     "metadata": {},
     "output_type": "execute_result"
    }
   ],
   "source": [
    "cv.hyperparamters_list()"
   ]
  },
  {
   "cell_type": "code",
   "execution_count": 13,
   "metadata": {
    "scrolled": true
   },
   "outputs": [
    {
     "name": "stdout",
     "output_type": "stream",
     "text": [
      "Running with hyperparameters: {'depth': 5, 'boundary': 2, 'pruning': True}\n",
      "-------------------- Eval/Train separation 0 --------------------\n",
      "-------------------- Eval/Train separation 1 --------------------\n",
      "-------------------- Eval/Train separation 2 --------------------\n",
      "-------------------- Eval/Train separation 3 --------------------\n",
      "-------------------- Eval/Train separation 4 --------------------\n",
      "Running with hyperparameters: {'depth': 5, 'boundary': 2, 'pruning': False}\n",
      "-------------------- Eval/Train separation 0 --------------------\n",
      "-------------------- Eval/Train separation 1 --------------------\n",
      "-------------------- Eval/Train separation 2 --------------------\n",
      "-------------------- Eval/Train separation 3 --------------------\n",
      "-------------------- Eval/Train separation 4 --------------------\n",
      "Running with hyperparameters: {'depth': 5, 'boundary': 4, 'pruning': True}\n",
      "-------------------- Eval/Train separation 0 --------------------\n",
      "-------------------- Eval/Train separation 1 --------------------\n",
      "-------------------- Eval/Train separation 2 --------------------\n",
      "-------------------- Eval/Train separation 3 --------------------\n",
      "-------------------- Eval/Train separation 4 --------------------\n",
      "Running with hyperparameters: {'depth': 5, 'boundary': 4, 'pruning': False}\n",
      "-------------------- Eval/Train separation 0 --------------------\n",
      "-------------------- Eval/Train separation 1 --------------------\n",
      "-------------------- Eval/Train separation 2 --------------------\n",
      "-------------------- Eval/Train separation 3 --------------------\n",
      "-------------------- Eval/Train separation 4 --------------------\n",
      "Running with hyperparameters: {'depth': 6, 'boundary': 2, 'pruning': True}\n",
      "-------------------- Eval/Train separation 0 --------------------\n",
      "-------------------- Eval/Train separation 1 --------------------\n",
      "-------------------- Eval/Train separation 2 --------------------\n",
      "-------------------- Eval/Train separation 3 --------------------\n",
      "-------------------- Eval/Train separation 4 --------------------\n",
      "Running with hyperparameters: {'depth': 6, 'boundary': 2, 'pruning': False}\n",
      "-------------------- Eval/Train separation 0 --------------------\n",
      "-------------------- Eval/Train separation 1 --------------------\n",
      "-------------------- Eval/Train separation 2 --------------------\n",
      "-------------------- Eval/Train separation 3 --------------------\n",
      "-------------------- Eval/Train separation 4 --------------------\n",
      "Running with hyperparameters: {'depth': 6, 'boundary': 4, 'pruning': True}\n",
      "-------------------- Eval/Train separation 0 --------------------\n",
      "-------------------- Eval/Train separation 1 --------------------\n",
      "-------------------- Eval/Train separation 2 --------------------\n",
      "-------------------- Eval/Train separation 3 --------------------\n",
      "-------------------- Eval/Train separation 4 --------------------\n",
      "Running with hyperparameters: {'depth': 6, 'boundary': 4, 'pruning': False}\n",
      "-------------------- Eval/Train separation 0 --------------------\n",
      "-------------------- Eval/Train separation 1 --------------------\n",
      "-------------------- Eval/Train separation 2 --------------------\n",
      "-------------------- Eval/Train separation 3 --------------------\n",
      "-------------------- Eval/Train separation 4 --------------------\n"
     ]
    }
   ],
   "source": [
    "best_hyper, F1_score, err_all_hyperparams = cv.param_tuning(data, 5, 0.2)"
   ]
  },
  {
   "cell_type": "code",
   "execution_count": 14,
   "metadata": {},
   "outputs": [
    {
     "data": {
      "text/plain": [
       "{'depth': 6, 'boundary': 4, 'pruning': True}"
      ]
     },
     "execution_count": 14,
     "metadata": {},
     "output_type": "execute_result"
    }
   ],
   "source": [
    "best_hyper"
   ]
  },
  {
   "cell_type": "code",
   "execution_count": 15,
   "metadata": {},
   "outputs": [
    {
     "data": {
      "text/plain": [
       "0.8964305684814777"
      ]
     },
     "execution_count": 15,
     "metadata": {},
     "output_type": "execute_result"
    }
   ],
   "source": [
    "F1_score"
   ]
  },
  {
   "cell_type": "code",
   "execution_count": 16,
   "metadata": {},
   "outputs": [
    {
     "data": {
      "text/plain": [
       "[0.8915186767240304,\n",
       " 0.8915186767240304,\n",
       " 0.8948764837633263,\n",
       " 0.8948764837633263,\n",
       " 0.8908884405745139,\n",
       " 0.8908884405745139,\n",
       " 0.8964305684814777,\n",
       " 0.8964305684814777]"
      ]
     },
     "execution_count": 16,
     "metadata": {},
     "output_type": "execute_result"
    }
   ],
   "source": [
    "err_all_hyperparams"
   ]
  },
  {
   "cell_type": "markdown",
   "metadata": {},
   "source": [
    "# Creating the Decision Tree"
   ]
  },
  {
   "cell_type": "code",
   "execution_count": null,
   "metadata": {},
   "outputs": [],
   "source": [
    "# please write a line to explain how each function works (just show an example)"
   ]
  },
  {
   "cell_type": "code",
   "execution_count": 7,
   "metadata": {},
   "outputs": [],
   "source": [
    "size = data.shape[0]\n",
    "train = data[:int(2000*0.8), :]\n",
    "test = data[int(2000*0.8):, :]"
   ]
  },
  {
   "cell_type": "code",
   "execution_count": null,
   "metadata": {},
   "outputs": [],
   "source": [
    "tree, _ = dt.tree_learn(train, 0, {}, 7,reduction = 4)\n",
    "# # dt.predict(tree, data[0, :])\n",
    "base_tree = copy.deepcopy(tree)\n",
    "base_score = ev.evaluate(base_tree, copy.deepcopy(test))\n",
    "pruning_tree = copy.deepcopy(tree)\n",
    "# new_tree = dt.parse_tree(pruning_tree, None, train, test, base_score, [])\n",
    "# new_tree == tree"
   ]
  },
  {
   "cell_type": "code",
   "execution_count": null,
   "metadata": {},
   "outputs": [],
   "source": [
    "dt.run_pruning(pruning_tree,)"
   ]
  },
  {
   "cell_type": "code",
   "execution_count": null,
   "metadata": {},
   "outputs": [],
   "source": [
    "new_tree, prune_count = dt.parse_tree(pruning_tree,None,train,test,base_score[2],[],prune_count=0)"
   ]
  },
  {
   "cell_type": "markdown",
   "metadata": {},
   "source": [
    "# Using the Decision Tree"
   ]
  },
  {
   "cell_type": "code",
   "execution_count": null,
   "metadata": {},
   "outputs": [],
   "source": [
    "predict(tree, data[0,:]) # this will predict the label of line 0 using the tree"
   ]
  },
  {
   "cell_type": "markdown",
   "metadata": {},
   "source": [
    "# Cross Validation"
   ]
  },
  {
   "cell_type": "code",
   "execution_count": null,
   "metadata": {
    "scrolled": false
   },
   "outputs": [],
   "source": [
    "val = cross_validation(data, folds = 10, test_percentage = 0.1) # Trains N * N-1 trees creating "
   ]
  },
  {
   "cell_type": "code",
   "execution_count": null,
   "metadata": {},
   "outputs": [],
   "source": [
    "val[\"structure_4\"][\"variance\"]"
   ]
  },
  {
   "cell_type": "code",
   "execution_count": null,
   "metadata": {},
   "outputs": [],
   "source": [
    "evaluate(tree, validation_set = val, 4) # extract validation set first"
   ]
  },
  {
   "cell_type": "code",
   "execution_count": null,
   "metadata": {},
   "outputs": [],
   "source": []
  },
  {
   "cell_type": "code",
   "execution_count": 8,
   "metadata": {},
   "outputs": [],
   "source": [
    "train = data[:1400,:]\n",
    "validate = data[1400:1700,:]\n",
    "test = data[1700:,:]"
   ]
  },
  {
   "cell_type": "code",
   "execution_count": 11,
   "metadata": {},
   "outputs": [],
   "source": [
    "tree, _ = dt.tree_learn(train, 0, {}, 5,reduction = 2)\n",
    "base_scores = ev.evaluate(tree,validate)  # for later use\n",
    "tree, metric_scores = dt.run_pruning(tree, train, validate, base_scores[cfg.METRIC_CHOICE])"
   ]
  },
  {
   "cell_type": "code",
   "execution_count": 12,
   "metadata": {},
   "outputs": [
    {
     "name": "stdout",
     "output_type": "stream",
     "text": [
      "0.8929765886287625\n"
     ]
    }
   ],
   "source": [
    "correct = 0\n",
    "for i in range(test.shape[0]):\n",
    "    if ev.predict(tree, test[i,:]) == test[i,-1]:\n",
    "        correct += 1\n",
    "print(correct/i)"
   ]
  },
  {
   "cell_type": "code",
   "execution_count": 13,
   "metadata": {},
   "outputs": [
    {
     "name": "stdout",
     "output_type": "stream",
     "text": [
      "0.8929765886287625\n"
     ]
    }
   ],
   "source": [
    "correct = 0\n",
    "for i in range(test.shape[0]):\n",
    "    if ev.predict(tree, test[i,:]) == test[i,-1]:\n",
    "        correct += 1\n",
    "print(correct/i)"
   ]
  },
  {
   "cell_type": "code",
   "execution_count": 8,
   "metadata": {},
   "outputs": [
    {
     "data": {
      "text/plain": [
       "0.445"
      ]
     },
     "execution_count": 8,
     "metadata": {},
     "output_type": "execute_result"
    }
   ],
   "source": [
    "min(1,0.445)"
   ]
  },
  {
   "cell_type": "code",
   "execution_count": null,
   "metadata": {},
   "outputs": [],
   "source": []
  }
 ],
 "metadata": {
  "kernelspec": {
   "display_name": "Python 3",
   "language": "python",
   "name": "python3"
  },
  "language_info": {
   "codemirror_mode": {
    "name": "ipython",
    "version": 3
   },
   "file_extension": ".py",
   "mimetype": "text/x-python",
   "name": "python",
   "nbconvert_exporter": "python",
   "pygments_lexer": "ipython3",
   "version": "3.7.1"
  }
 },
 "nbformat": 4,
 "nbformat_minor": 2
}
